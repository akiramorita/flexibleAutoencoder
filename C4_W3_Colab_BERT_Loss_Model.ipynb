{
  "nbformat": 4,
  "nbformat_minor": 0,
  "metadata": {
    "accelerator": "GPU",
    "colab": {
      "provenance": [],
      "include_colab_link": true
    },
    "kernelspec": {
      "name": "python3",
      "display_name": "Python 3"
    },
    "gpuClass": "standard"
  },
  "cells": [
    {
      "cell_type": "markdown",
      "metadata": {
        "id": "view-in-github",
        "colab_type": "text"
      },
      "source": [
        "<a href=\"https://colab.research.google.com/github/akiramorita/flexibleAutoencoder/blob/nlp202309/C4_W3_Colab_BERT_Loss_Model.ipynb\" target=\"_parent\"><img src=\"https://colab.research.google.com/assets/colab-badge.svg\" alt=\"Open In Colab\"/></a>"
      ]
    },
    {
      "cell_type": "markdown",
      "metadata": {
        "id": "7yuytuIllsv1"
      },
      "source": [
        "# Assignment 3, Part 1: BERT Loss Model\n",
        "\n",
        "Welcome to the part 1 of testing the models for this week's assignment. We will perform decoding using the BERT Loss model. In this notebook we'll use an input, mask (hide) random word(s) in it and see how well we get the \"Target\" answer(s).\n",
        "\n",
        "## IMPORTANT\n",
        "\n",
        "- As you cannot save the changes you make to this colab, you have to make a copy of this notebook in your own drive and run that. You can do so by going to `File -> Save a copy in Drive`. Close this colab and open the copy which you have made in your own drive.\n",
        "\n",
        "- Go to this [google drive folder](https://drive.google.com/drive/folders/1v3-aEfvs8ZMNRvEl36O7Hd5_pzszqTSz?usp=sharing) named `NLP_C4_W3_Colabs`. In the folder, next to its name use the drop down menu to select `\"Add shortcut to Drive\" -> \"My Drive\" and then press ADD SHORTCUT`. This should add a shortcut to the folder `NLP_C4_W3_Colabs` within your own google drive. Please make sure this happens, as you'll be reading the data for this notebook from this folder.\n",
        "\n",
        "- Make sure your runtime is GPU (_not_ CPU or TPU). And if it is an option, make sure you are using _Python 3_. You can select these settings by going to `Runtime -> Change runtime type -> Select the above mentioned settings and then press SAVE`"
      ]
    },
    {
      "cell_type": "markdown",
      "metadata": {
        "id": "Db6LQW5cMSgx"
      },
      "source": [
        "**Note: Restarting the runtime maybe required**.\n",
        "\n",
        "Colab will tell you if the restarting is necessary -- you can do this from the:\n",
        "\n",
        "Runtime > Restart Runtime\n",
        "\n",
        "option in the dropdown."
      ]
    },
    {
      "cell_type": "markdown",
      "metadata": {
        "id": "qibASJKuDxpm"
      },
      "source": [
        "## Outline\n",
        "\n",
        "- [Part 0: Downloading and loading dependencies](#0)\n",
        "- [Part 1: Mounting your drive for data accessibility](#1)\n",
        "- [Part 2: Getting things ready](#2)\n",
        "- [Part 3: Part 3: BERT Loss](#3)\n",
        "    - [3.1 Decoding](#3.1)"
      ]
    },
    {
      "cell_type": "markdown",
      "metadata": {
        "id": "ysxogfC1M158"
      },
      "source": [
        "<a name='0'></a>\n",
        "# Part 0: Downloading and loading dependencies\n",
        "\n",
        "Uncomment the code cell below and run it to download some dependencies that you will need. You need to download them once every time you open the colab. You can ignore the `kfac` error."
      ]
    },
    {
      "cell_type": "code",
      "metadata": {
        "id": "1BNZzCg0xv3R",
        "colab": {
          "base_uri": "https://localhost:8080/"
        },
        "outputId": "fe77cc19-f0e2-4fe7-ee98-d316cac1a9f8"
      },
      "source": [
        "!pip -q install trax\n",
        "!pip -q install t5"
      ],
      "execution_count": null,
      "outputs": [
        {
          "output_type": "stream",
          "name": "stdout",
          "text": [
            "\u001b[K     |████████████████████████████████| 637 kB 14.4 MB/s \n",
            "\u001b[K     |████████████████████████████████| 5.8 MB 64.8 MB/s \n",
            "\u001b[K     |████████████████████████████████| 588.3 MB 21 kB/s \n",
            "\u001b[K     |████████████████████████████████| 439 kB 68.2 MB/s \n",
            "\u001b[K     |████████████████████████████████| 1.7 MB 63.0 MB/s \n",
            "\u001b[K     |████████████████████████████████| 6.0 MB 61.2 MB/s \n",
            "\u001b[K     |████████████████████████████████| 153 kB 13.6 MB/s \n",
            "\u001b[K     |████████████████████████████████| 118 kB 76.7 MB/s \n",
            "\u001b[K     |████████████████████████████████| 5.8 MB 62.5 MB/s \n",
            "\u001b[K     |████████████████████████████████| 319 kB 76.9 MB/s \n",
            "\u001b[K     |████████████████████████████████| 5.1 MB 48.6 MB/s \n",
            "\u001b[K     |████████████████████████████████| 1.3 MB 68.0 MB/s \n",
            "\u001b[K     |████████████████████████████████| 385 kB 76.8 MB/s \n",
            "\u001b[K     |████████████████████████████████| 7.6 MB 47.9 MB/s \n",
            "\u001b[K     |████████████████████████████████| 182 kB 82.3 MB/s \n",
            "\u001b[K     |████████████████████████████████| 92 kB 1.1 MB/s \n",
            "\u001b[K     |████████████████████████████████| 197 kB 2.4 MB/s \n",
            "\u001b[K     |████████████████████████████████| 77 kB 8.3 MB/s \n",
            "\u001b[K     |████████████████████████████████| 66 kB 6.0 MB/s \n",
            "\u001b[K     |████████████████████████████████| 8.3 MB 64.7 MB/s \n",
            "\u001b[K     |████████████████████████████████| 154 kB 81.3 MB/s \n",
            "\u001b[K     |████████████████████████████████| 237 kB 82.0 MB/s \n",
            "\u001b[K     |████████████████████████████████| 51 kB 8.7 MB/s \n",
            "\u001b[K     |████████████████████████████████| 85 kB 5.2 MB/s \n",
            "\u001b[?25h  Building wheel for rouge-score (setup.py) ... \u001b[?25l\u001b[?25hdone\n",
            "  Building wheel for ml-collections (setup.py) ... \u001b[?25l\u001b[?25hdone\n"
          ]
        }
      ]
    },
    {
      "cell_type": "code",
      "metadata": {
        "id": "uDhi6qLQMHzs"
      },
      "source": [
        "import pickle\n",
        "import string\n",
        "import ast\n",
        "import numpy as np\n",
        "import trax\n",
        "from trax.supervised import decoding\n",
        "import textwrap\n",
        "# Will come handy later.\n",
        "wrapper = textwrap.TextWrapper(width=70)"
      ],
      "execution_count": null,
      "outputs": []
    },
    {
      "cell_type": "markdown",
      "metadata": {
        "id": "Cwr7LoXwQUW5"
      },
      "source": [
        "<a name='1'></a>\n",
        "# Part 1: Mounting your drive for data accessibility\n",
        "\n",
        "Run the code cell below and follow the instructions to mount your drive. The data is the same as used in the coursera version of the assignment."
      ]
    },
    {
      "cell_type": "code",
      "metadata": {
        "id": "P7ZF7KiXzQEg",
        "colab": {
          "base_uri": "https://localhost:8080/"
        },
        "outputId": "60b957c1-fb09-4553-b46a-ef63f35592c6"
      },
      "source": [
        "from google.colab import drive\n",
        "drive.mount('/content/drive/', force_remount=True)"
      ],
      "execution_count": null,
      "outputs": [
        {
          "output_type": "stream",
          "name": "stdout",
          "text": [
            "Mounted at /content/drive/\n"
          ]
        }
      ]
    },
    {
      "cell_type": "code",
      "metadata": {
        "id": "1xqT_O_9Mx0l"
      },
      "source": [
        "path = \"/content/drive/My Drive/NLP_C4_W3_Colabs\""
      ],
      "execution_count": null,
      "outputs": []
    },
    {
      "cell_type": "markdown",
      "metadata": {
        "id": "otO5C5VwEJoU"
      },
      "source": [
        "<a name='2'></a>\n",
        "# Part 2: Getting things ready\n",
        "\n",
        "Run the code cell below to ready some functions which will later help us in decoding. The code and the functions are the same as the ones you previously ran on the coursera version of the assignment."
      ]
    },
    {
      "cell_type": "code",
      "metadata": {
        "id": "dSmcZ_t8HBq6"
      },
      "source": [
        "example_jsons = list(map(ast.literal_eval, open(path + \"/data/data.txt\")))\n",
        "\n",
        "natural_language_texts = [example_json['text'] for example_json in example_jsons]\n",
        "\n",
        "PAD, EOS, UNK = 0, 1, 2\n",
        "\n",
        "def detokenize(np_array):\n",
        "  return trax.data.detokenize(\n",
        "      np_array,\n",
        "      vocab_type = 'sentencepiece',\n",
        "      vocab_file = 'sentencepiece.model',\n",
        "      vocab_dir = path + \"/models/\")\n",
        "\n",
        "def tokenize(s):\n",
        "  # The trax.data.tokenize function operates on streams,\n",
        "  # that's why we have to create 1-element stream with iter\n",
        "  # and later retrieve the result with next.\n",
        "  return next(trax.data.tokenize(\n",
        "      iter([s]),\n",
        "      vocab_type = 'sentencepiece',\n",
        "      vocab_file = 'sentencepiece.model',\n",
        "      vocab_dir = path + \"/models/\"))\n",
        "\n",
        "vocab_size = trax.data.vocab_size(\n",
        "    vocab_type = 'sentencepiece',\n",
        "    vocab_file = 'sentencepiece.model',\n",
        "    vocab_dir = path + \"/models/\")\n",
        "\n",
        "def get_sentinels(vocab_size):\n",
        "    sentinels = {}\n",
        "\n",
        "    for i, char in enumerate(reversed(string.ascii_letters), 1):\n",
        "\n",
        "        decoded_text = detokenize([vocab_size - i])\n",
        "\n",
        "        # Sentinels, ex: <Z> - <a>\n",
        "        sentinels[decoded_text] = f'<{char}>'\n",
        "\n",
        "    return sentinels\n",
        "\n",
        "sentinels = get_sentinels(vocab_size)\n",
        "\n",
        "\n",
        "def pretty_decode(encoded_str_list, sentinels=sentinels):\n",
        "    # If already a string, just do the replacements.\n",
        "    if isinstance(encoded_str_list, (str, bytes)):\n",
        "        for token, char in sentinels.items():\n",
        "            encoded_str_list = encoded_str_list.replace(token, char)\n",
        "        return encoded_str_list\n",
        "\n",
        "    # We need to decode and then prettyfy it.\n",
        "    return pretty_decode(detokenize(encoded_str_list))\n",
        "\n",
        "\n",
        "inputs_targets_pairs = []\n",
        "\n",
        "# here you are reading already computed input/target pairs from a file\n",
        "with open (path + \"/data/inputs_targets_pairs_file.txt\", 'rb') as fp:\n",
        "    inputs_targets_pairs = pickle.load(fp)\n",
        "\n",
        "\n",
        "def display_input_target_pairs(inputs_targets_pairs):\n",
        "    for i, inp_tgt_pair in enumerate(inputs_targets_pairs, 1):\n",
        "      inps, tgts = inp_tgt_pair\n",
        "      inps, tgts = pretty_decode(inps), pretty_decode(tgts)\n",
        "      print(f'[{i}]\\n'\n",
        "            f'inputs:\\n{wrapper.fill(text=inps)}\\n\\n'\n",
        "            f'targets:\\n{wrapper.fill(text=tgts)}\\n\\n\\n\\n')"
      ],
      "execution_count": null,
      "outputs": []
    },
    {
      "cell_type": "code",
      "metadata": {
        "id": "bHLYA6N7Izzi",
        "colab": {
          "base_uri": "https://localhost:8080/"
        },
        "outputId": "97e6775e-52b4-4847-95e4-af86a7d3a5b2"
      },
      "source": [
        "display_input_target_pairs(inputs_targets_pairs)"
      ],
      "execution_count": null,
      "outputs": [
        {
          "output_type": "stream",
          "name": "stdout",
          "text": [
            "[1]\n",
            "inputs:\n",
            "Beginners BBQ <Z> Taking <Y> in Missoula! <X> want to get better <W>\n",
            "making delicious <V>? You will have the opportunity, put this on <U>\n",
            "calendar now <T> Thursday, September 22nd<S> World Class BBQ Champion,\n",
            "Tony Balay from Lonestar Smoke Rangers. He<R> be <Q> a beginner<P>\n",
            "class for everyone <O> wants to<N> better <M> their <L> skills. He\n",
            "will teach you <K> you need to know <J> compete in  <I> KCBS BBQ\n",
            "competition, including techniques, recipes,<H>s, meat selection<G>\n",
            "trimming, plus smoker <F> information. The cost to be in the class is\n",
            "$35 per person<E> for spectator<D> is free. Included in the cost will\n",
            "be either a t-shirt or apron and you will<C> tasting samples of each\n",
            "meat that <B>.\n",
            "\n",
            "targets:\n",
            "<Z> Class <Y> Place <X> Do you <W> at <V> BBQ <U> your <T>.<S> join<R>\n",
            "will <Q> teaching<P> level <O> who<N> get <M> with <L> culinary <K>\n",
            "everything <J> to <I>a<H> timeline<G> and <F> and fire<E>, and<D>s\n",
            "it<C> be <B> is prepared\n",
            "\n",
            "\n",
            "\n",
            "\n",
            "[2]\n",
            "inputs:\n",
            "Discussion <Z> ' <Y> X Lion (10.7)' started by  <X>xboi87, Jan <W>\n",
            "2012. I've got a 500gb <V> drive and  <U> 240gb SSD <T> When trying to\n",
            "restore using disk utility i'm given the<S>Not enough space<R> disk\n",
            "___ <Q> to restore<P> But I shouldn't have to do that!!! <O> or<N>s\n",
            "before resorting to the <M>? Use <L> Copy <K>ner to copy one drive to\n",
            "the other. <J>'ve done this several times <I> larger<H>D<G> smaller\n",
            "SSD and I wound up with a bootable SSD drive. One step you have to\n",
            "remember not to skip is <F> use Disk Utility to partition the SSD as\n",
            "GUID partition scheme HFS+<E> doing the<D>ne<C> If it came Apple\n",
            "Partition Scheme, even if you let CCC do the  <B>e <A> the resulting\n",
            "<z> won' <y> be bootable<x> CCC<w> works in \"file mode\" and it can\n",
            "easily copy a larger drive (that's mostly empty) onto<v> drive.<u> you\n",
            "tell CCC to clone <t>a drive <s> did NOT boot from, it can work in<r>\n",
            "copy mode where the destination drive must be the same size or larger\n",
            "than<q> drive you are cloning from<p>if I recall). I've actually done\n",
            "<o> somehow <n> Disk Utility several times <m>booting from <l>a\n",
            "different drive (<k> even the dvd) so not running <j> utility from the\n",
            "drive your cloning) and had it<i> just fine from larger to smaller\n",
            "bootable clone. Definitely<h> drive <g>ning to first, as bootable\n",
            "Apple <f>.. Thanks for pointing this out<e> only experience using DU\n",
            "to go larger to smaller was when I was trying to make <d>a <c> install\n",
            "<b> I was unable to restore InstallESD.d <a>g Théâtre Keep 4 GB USB\n",
            "stick but of course the reason that wouldndürftigt fit isutti was\n",
            "slightly more than 4  Carolyn of data.\n",
            "\n",
            "targets:\n",
            "<Z> in <Y>Mac OS <X>a <W> 20, <V> internal <U>a <T>.<S> error \"<R> on\n",
            "<Q>_<P>\" <O> Any ideas<N> workaround <M> above <L> Carbon <K> Clo <J>\n",
            "I <I> going from<H> HD<G> to <F> to<E> before<D> clo<C>. <B>clon <A>,\n",
            "<z> drive <y>t<x>.<w> usually<v> a smaller<u> If <t>  <s> you<r>\n",
            "block<q> the<p> ( <o> this <n> on <m> ( <l> <k>or <j> disk<i> work<h>\n",
            "format the<g>clo <f> etc<e>. My <d>  <c> Lion <b> stick and <a>m\n",
            "Théâtre toKeepadürftig'utti there CarolynGB\n",
            "\n",
            "\n",
            "\n",
            "\n",
            "[3]\n",
            "inputs:\n",
            "Fo <Z> plaid ly <Y> and <X>dex shortall with metallic slinky insets.\n",
            "Attached metallic elastic <W> with O-ring. <V>band <U>. Great hip hop\n",
            "<T> dance costume. Made in the USA.\n",
            "\n",
            "targets:\n",
            "<Z>il <Y>cra <X> span <W> belt <V> Head <U> included <T> or jazz\n",
            "\n",
            "\n",
            "\n",
            "\n",
            "[4]\n",
            "inputs:\n",
            "How many back <Z>s per day for <Y> site? Discussion in 'Black Hat SEO\n",
            "<X> by Omoplat <W>, Dec 3, 2010. 1) <V> a newly created site, what's\n",
            "the max # back <U>s per day I should do to be <T>? 2) how long do I\n",
            "have to let my site age before I can start<S> blinks? I did about <R>\n",
            "profiles every 24 hours <Q> 10 days for one of<P> sites which had a\n",
            "brand new domain. There is three backlinks for <O> of these<N> profile\n",
            "so thats 18 000 backlinks <M> 24 hours and nothing happened in terms\n",
            "of being penalized or sandboxed. This is now <L> 3 <K> ago and the\n",
            "site is ranking on first page for a lot of my targeted keywords <J>\n",
            "build more you can in starting but <I> manual<H> and not spammy\n",
            "type<G> manual + relevant to the <F>.. then after 1 month you can make\n",
            "a big<E>.. Wow, dude, you built 18k backlinks a day on a brand new<D>?\n",
            "How quickly<C> rank up? What <B> of competition/searches did those\n",
            "keywords have?\n",
            "\n",
            "targets:\n",
            "<Z>link <Y> new <X>' started <W>a <V> for <U>link <T> safe<S> making\n",
            "more<R>6000 forum <Q> for<P> my <O> every<N> forum <M> every <L> maybe\n",
            "<K> months <J>. <I> do<H> submission<G> means <F> post<E> blast<D>\n",
            "site<C> did you <B> kind\n",
            "\n",
            "\n",
            "\n",
            "\n",
            "[5]\n",
            "inputs:\n",
            "The Denver Board of Education opened the 2017-18 school year with an\n",
            "update on projects that include new construction, upgrades, heat\n",
            "mitigation and quality <Z>. We are excited <Y> students will be the\n",
            "<X> of a four year, <W>72 million <V> Obligation Bond. Since the\n",
            "passage of <U> bond, <T> construction team has worked to<S> the\n",
            "projects over the four-year term of<R> bond. Denver <Q> on Tuesday\n",
            "approved<P> and mill funding measures for students in <O> Public\n",
            "Schools, agreeing to invest $5<N> million in bond funding to build and\n",
            "improve schools and $5 <M> million in <L> dollars to support proven\n",
            "initiatives, such as early literacy. Denver voters say yes to bond and\n",
            "mill levy funding support <K> DPS students and schools. Click to learn\n",
            "<J> about the details <I> voter-approved bond measure. Denver voters\n",
            "on Nov. 8 approved bond and mill funding measures for DPS students and\n",
            "schools. Learn<H> about what’s included<G> the mill levy measure.\n",
            "\n",
            "targets:\n",
            "<Z> learning environments <Y> that Denver <X> beneficiaries <W> $5 <V>\n",
            "General <U> the <T> our<S> schedule<R> the <Q> voters<P> bond <O>\n",
            "Denver<N>72 <M>6.6 <L> operating <K> for <J> more <I> of the<H>\n",
            "more<G> in\n",
            "\n",
            "\n",
            "\n",
            "\n"
          ]
        }
      ]
    },
    {
      "cell_type": "markdown",
      "metadata": {
        "id": "qkfUvyjtEu6J"
      },
      "source": [
        "<a name='3'></a>\n",
        "# Part 3: BERT Loss\n",
        "\n",
        "We will not train the encoder which you have built in the assignment (coursera version). Training it could easily cost you a few days depending on which GPUs/TPUs you are using. Very few people train the full transformer from scratch. Instead, what the majority of people do, they load in a pretrained model, and they fine tune it on a specific task. That is exactly what you are about to do. Let's start by initializing and then loading in the model.\n",
        "\n",
        "Initialize the model from the saved checkpoint."
      ]
    },
    {
      "cell_type": "code",
      "metadata": {
        "id": "Hsqi-dzzxv4e"
      },
      "source": [
        "# Initializing the model\n",
        "model = trax.models.Transformer(\n",
        "    d_ff = 4096,\n",
        "    d_model = 1024,\n",
        "    max_len = 2048,\n",
        "    n_heads = 16,\n",
        "    dropout = 0.1,\n",
        "    input_vocab_size = 32000,\n",
        "    n_encoder_layers = 24,\n",
        "    n_decoder_layers = 24,\n",
        "    mode='predict')  # Change to 'eval' for slow decoding."
      ],
      "execution_count": null,
      "outputs": []
    },
    {
      "cell_type": "code",
      "metadata": {
        "id": "lOB1C131xv4i"
      },
      "source": [
        "# Now load in the model\n",
        "# this takes about 1 minute\n",
        "shape11 = trax.shapes.ShapeDtype((1, 1), dtype=np.int32)  # Needed in predict mode.\n",
        "model.init_from_file(path + '/models/model.pkl.gz',\n",
        "                     weights_only=True, input_signature=(shape11, shape11))"
      ],
      "execution_count": null,
      "outputs": []
    },
    {
      "cell_type": "code",
      "metadata": {
        "id": "9Wy3pr4ZfzA_"
      },
      "source": [
        "# Uncomment to see the transformer's structure.\n",
        "# print(model)"
      ],
      "execution_count": null,
      "outputs": []
    },
    {
      "cell_type": "markdown",
      "metadata": {
        "id": "HuTyft5EBQK6"
      },
      "source": [
        "<a name='3.1'></a>\n",
        "### 3.1 Decoding\n",
        "\n",
        "Now you will use one of the `inputs_targets_pairs` for input and as target. Next you will use the `pretty_decode` to output the input and target. The code to perform all of this has been provided below."
      ]
    },
    {
      "cell_type": "code",
      "metadata": {
        "id": "LJ8s_xZ1QtkI"
      },
      "source": [
        "# # using the 3rd example\n",
        "c4_input = inputs_targets_pairs[2][0]\n",
        "c4_target = inputs_targets_pairs[2][1]\n",
        "\n",
        "# using the 1st example\n",
        "# c4_input = inputs_targets_pairs[0][0]\n",
        "# c4_target = inputs_targets_pairs[0][1]\n",
        "\n",
        "print('pretty_decoded input: \\n\\n', pretty_decode(c4_input))\n",
        "print('\\npretty_decoded target: \\n\\n', pretty_decode(c4_target))\n",
        "print('\\nc4_input:\\n\\n', c4_input)\n",
        "print('\\nc4_target:\\n\\n', c4_target)\n",
        "print(len(c4_target))\n",
        "print(len(pretty_decode(c4_target)))"
      ],
      "execution_count": null,
      "outputs": []
    },
    {
      "cell_type": "markdown",
      "metadata": {
        "id": "OD9EchfPFlAf"
      },
      "source": [
        "Run the cell below to decode"
      ]
    },
    {
      "cell_type": "code",
      "metadata": {
        "id": "6HwIdimiN0k2"
      },
      "source": [
        "# Faster decoding: (still - maybe lower max_length to 20 for speed)\n",
        "# Temperature is a parameter for sampling.\n",
        "#   # * 0.0: same as argmax, always pick the most probable token\n",
        "#   # * 1.0: sampling from the distribution (can sometimes say random things)\n",
        "#   # * values inbetween can trade off diversity and quality, try it out!\n",
        "output = decoding.autoregressive_sample(model, inputs=np.array(c4_input)[None, :],\n",
        "                                        temperature=0.0, max_length=50)\n",
        "print(wrapper.fill(pretty_decode(output[0])))"
      ],
      "execution_count": null,
      "outputs": []
    },
    {
      "cell_type": "markdown",
      "metadata": {
        "id": "0n1MG7zNJZdh"
      },
      "source": [
        "### Note: As you can see the RAM is almost full, it is because the model and the decoding is memory heavy. Running it the second time might give you an answer that makes no sense, or repetitive words. If that happens restart the runtime (see how to at the start of the notebook) and run all the cells again."
      ]
    },
    {
      "cell_type": "code",
      "metadata": {
        "id": "7PRbChEc8dqe"
      },
      "source": [],
      "execution_count": null,
      "outputs": []
    }
  ]
}